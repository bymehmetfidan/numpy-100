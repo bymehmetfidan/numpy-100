{
 "cells": [
  {
   "cell_type": "markdown",
   "id": "ea6cbc4b",
   "metadata": {},
   "source": [
    "# 100 numpy exercises\n",
    "\n",
    "This is a collection of exercises that have been collected in the numpy mailing list, on stack overflow\n",
    "and in the numpy documentation. The goal of this collection is to offer a quick reference for both old\n",
    "and new users but also to provide a set of exercises for those who teach.\n",
    "\n",
    "\n",
    "If you find an error or think you've a better way to solve some of them, feel\n",
    "free to open an issue at <https://github.com/rougier/numpy-100>."
   ]
  },
  {
   "cell_type": "markdown",
   "id": "354a533b",
   "metadata": {},
   "source": [
    "File automatically generated. See the documentation to update questions/answers/hints programmatically."
   ]
  },
  {
   "cell_type": "markdown",
   "id": "9efa41bf",
   "metadata": {},
   "source": [
    "Run the `initialize.py` module, then call a random question with `pick()` an hint towards its solution with\n",
    "`hint(n)` and the answer with `answer(n)`, where n is the number of the picked question."
   ]
  },
  {
   "cell_type": "code",
   "execution_count": 2,
   "id": "1a6e8fdb",
   "metadata": {},
   "outputs": [
    {
     "name": "stdout",
     "output_type": "stream",
     "text": [
      "Collecting mdutils\n",
      "  Downloading mdutils-1.6.0.tar.gz (22 kB)\n",
      "  Installing build dependencies: started\n",
      "  Installing build dependencies: finished with status 'done'\n",
      "  Getting requirements to build wheel: started\n",
      "  Getting requirements to build wheel: finished with status 'done'\n",
      "  Preparing metadata (pyproject.toml): started\n",
      "  Preparing metadata (pyproject.toml): finished with status 'done'\n",
      "Building wheels for collected packages: mdutils\n",
      "  Building wheel for mdutils (pyproject.toml): started\n",
      "  Building wheel for mdutils (pyproject.toml): finished with status 'done'\n",
      "  Created wheel for mdutils: filename=mdutils-1.6.0-py3-none-any.whl size=20842 sha256=1c88724b2654d006412b3219999176e990df69e37f9d82a0db8de671adca2744\n",
      "  Stored in directory: c:\\users\\mehmetf\\appdata\\local\\pip\\cache\\wheels\\1c\\4c\\35\\6116719afd11ffb07e403521d181d48af1164b3862c3d8e8bb\n",
      "Successfully built mdutils\n",
      "Installing collected packages: mdutils\n",
      "Successfully installed mdutils-1.6.0\n"
     ]
    }
   ],
   "source": [
    "!pip install mdutils\n",
    "%run initialise.py"
   ]
  },
  {
   "cell_type": "code",
   "execution_count": 4,
   "id": "d1e7d785",
   "metadata": {},
   "outputs": [
    {
     "name": "stdout",
     "output_type": "stream",
     "text": [
      "56. Generate a generic 2D Gaussian-like array (★★☆)\n"
     ]
    }
   ],
   "source": [
    "pick()"
   ]
  }
 ],
 "metadata": {
  "kernelspec": {
   "display_name": "base",
   "language": "python",
   "name": "python3"
  },
  "language_info": {
   "codemirror_mode": {
    "name": "ipython",
    "version": 3
   },
   "file_extension": ".py",
   "mimetype": "text/x-python",
   "name": "python",
   "nbconvert_exporter": "python",
   "pygments_lexer": "ipython3",
   "version": "3.10.16"
  }
 },
 "nbformat": 4,
 "nbformat_minor": 5
}
